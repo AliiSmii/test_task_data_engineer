{
 "cells": [
  {
   "cell_type": "markdown",
   "id": "53e3e301",
   "metadata": {},
   "source": [
    "# Тестовое задание на позицию Data Engineer"
   ]
  },
  {
   "cell_type": "code",
   "execution_count": 1,
   "id": "f9b78f6a-6b6d-40d7-b408-d7d2aa105a0c",
   "metadata": {
    "tags": []
   },
   "outputs": [],
   "source": [
    "from joblib import Parallel, delayed\n",
    "\n",
    "import pandas as pd\n",
    "import numpy as np\n",
    "import matplotlib.pyplot as plt\n",
    "import seaborn as sns\n",
    "\n",
    "from scipy import stats\n",
    "from collections import Counter"
   ]
  },
  {
   "cell_type": "markdown",
   "id": "74c5fd80",
   "metadata": {
    "tags": []
   },
   "source": [
    "## Исходный датасет"
   ]
  },
  {
   "cell_type": "markdown",
   "id": "0dc4f893",
   "metadata": {},
   "source": [
    "Необходимо сгенерировать свой датасет или выбрать любой публичный датасет имеющий:\n",
    "* не менее 100 млн записей\n",
    "* имеющий колонки различных типов данных - numeric, datetime (range в несколько лет), string\n",
    "* достаточно минимального набора колонок, чтобы датафайл был не сильно большой\n",
    "* имеющий не менее 10% дублей (допускается добавить их самостоятельно)\n",
    "* хранящийся в csv/json формате в файле на диске или по url"
   ]
  },
  {
   "cell_type": "code",
   "execution_count": 2,
   "id": "a3c4013b-7e96-4bd3-afbf-c6af7236c2b6",
   "metadata": {
    "tags": []
   },
   "outputs": [
    {
     "name": "stdout",
     "output_type": "stream",
     "text": [
      "Начало Chunk 1\n",
      "Начало Chunk 2\n",
      "Начало Chunk 3\n",
      "Начало Chunk 4\n",
      "Начало Chunk 5\n",
      "Начало Chunk 6\n",
      "Начало Chunk 7\n",
      "Начало Chunk 8\n",
      "Chunk 4 завершён. Время: 22.99 секунд.\n",
      "Chunk 5 завершён. Время: 23.18 секунд.\n",
      "Chunk 8 завершён. Время: 24.10 секунд.\n",
      "Chunk 2 завершён. Время: 24.32 секунд.\n",
      "Chunk 6 завершён. Время: 24.40 секунд.\n",
      "Chunk 7 завершён. Время: 24.45 секунд.\n",
      "Chunk 1 завершён. Время: 25.14 секунд.\n",
      "Chunk 3 завершён. Время: 25.22 секунд.\n",
      "Начало Chunk 9\n",
      "Начало Chunk 10\n",
      "Начало Chunk 11\n",
      "Начало Chunk 12\n",
      "Начало Chunk 13\n",
      "Начало Chunk 14\n",
      "Chunk 9 завершён. Время: 17.04 секунд.\n",
      "Chunk 10 завершён. Время: 17.57 секунд.\n",
      "Начало Chunk 15\n",
      "Chunk 11 завершён. Время: 17.94 секунд.\n",
      "Начало Chunk 16\n",
      "Chunk 12 завершён. Время: 18.80 секунд.\n",
      "Chunk 13 завершён. Время: 18.68 секунд.\n",
      "Chunk 14 завершён. Время: 18.60 секунд.\n",
      "Chunk 15 завершён. Время: 17.81 секунд.\n",
      "Chunk 16 завершён. Время: 17.04 секунд.\n",
      "Объединение завершено. Время: 73.14 секунд.\n",
      "Генерация завершена. Время: 274.65 секунд.\n"
     ]
    }
   ],
   "source": [
    "# Скрипт для генерации датасета\n",
    "!python3.11 generate_dataset.py"
   ]
  },
  {
   "cell_type": "code",
   "execution_count": 3,
   "id": "6a38d259-6a61-4e49-b604-3fe144a22bd7",
   "metadata": {
    "tags": []
   },
   "outputs": [],
   "source": [
    "generated_df = pd.read_csv('generated_dataset.csv')"
   ]
  },
  {
   "cell_type": "code",
   "execution_count": 4,
   "id": "3faf55fb-a525-4e30-a70f-b70b70668c0a",
   "metadata": {
    "tags": []
   },
   "outputs": [
    {
     "name": "stdout",
     "output_type": "stream",
     "text": [
      "<class 'pandas.core.frame.DataFrame'>\n",
      "RangeIndex: 110000000 entries, 0 to 109999999\n",
      "Data columns (total 3 columns):\n",
      " #   Column    Dtype  \n",
      "---  ------    -----  \n",
      " 0   datetime  object \n",
      " 1   numeric   float64\n",
      " 2   string    object \n",
      "dtypes: float64(1), object(2)\n",
      "memory usage: 2.5+ GB\n"
     ]
    }
   ],
   "source": [
    "generated_df.info()"
   ]
  },
  {
   "cell_type": "code",
   "execution_count": 5,
   "id": "416cfd25-cee9-480d-bf78-865cb0728d99",
   "metadata": {
    "tags": []
   },
   "outputs": [
    {
     "data": {
      "text/plain": [
       "10000000"
      ]
     },
     "execution_count": 5,
     "metadata": {},
     "output_type": "execute_result"
    }
   ],
   "source": [
    "generated_df.duplicated().sum()"
   ]
  },
  {
   "cell_type": "code",
   "execution_count": 6,
   "id": "595efe36-4ab5-457e-8601-40a88d96be32",
   "metadata": {
    "tags": []
   },
   "outputs": [
    {
     "data": {
      "text/plain": [
       "datetime         0\n",
       "numeric     550176\n",
       "string      550250\n",
       "dtype: int64"
      ]
     },
     "execution_count": 6,
     "metadata": {},
     "output_type": "execute_result"
    }
   ],
   "source": [
    "generated_df.isna().sum()"
   ]
  },
  {
   "cell_type": "markdown",
   "id": "58b91fbe",
   "metadata": {},
   "source": [
    "## Считывание и процессинг"
   ]
  },
  {
   "cell_type": "markdown",
   "id": "90ead2e9",
   "metadata": {},
   "source": [
    "Считываем файл или тянем данные по ссылке и процессим данные:\n",
    "* удалить пустые / na строки\n",
    "* удалить дубли\n",
    "* строки в которых нет цифр превратить в пустые\n",
    "* удалить записи в промежутке от 1 до 3 часов ночи\n",
    "\n",
    "Для ускорения выполнения распараллеливайте выполнение этих шагов"
   ]
  },
  {
   "cell_type": "code",
   "execution_count": 7,
   "id": "28d14ce1-e53e-48f8-8e78-9a8639edc441",
   "metadata": {
    "tags": []
   },
   "outputs": [
    {
     "name": "stdout",
     "output_type": "stream",
     "text": [
      "Chunk обработан. Время: 9.60 секунд.\n",
      "Chunk обработан. Время: 10.02 секунд.\n",
      "Chunk обработан. Время: 9.63 секунд.\n",
      "Chunk обработан. Время: 9.61 секунд.\n",
      "Chunk обработан. Время: 9.58 секунд.\n",
      "Chunk обработан. Время: 9.93 секунд.\n",
      "Chunk обработан. Время: 9.56 секунд.\n",
      "Chunk обработан. Время: 9.42 секунд.\n",
      "Chunk обработан. Время: 9.25 секунд.\n",
      "Chunk обработан. Время: 9.12 секунд.\n",
      "Chunk обработан. Время: 8.94 секунд.\n",
      "Chunk обработан. Время: 8.86 секунд.\n",
      "Chunk обработан. Время: 8.86 секунд.\n",
      "Chunk обработан. Время: 9.62 секунд.\n",
      "Chunk обработан. Время: 11.42 секунд.\n",
      "Chunk обработан. Время: 9.11 секунд.\n",
      "Chunk обработан. Время: 8.98 секунд.\n",
      "Chunk обработан. Время: 5.25 секунд.\n",
      "Объединение завершено. Время: 148.79 секунд.\n",
      "Удаление дублей завершено. Время: 205.27 секунд.\n",
      "Сохранение завершено. Время: 334.30 секунд.\n"
     ]
    }
   ],
   "source": [
    "# Скрипт для процессинга датасета\n",
    "!python3.11 process_dataset.py"
   ]
  },
  {
   "cell_type": "code",
   "execution_count": 8,
   "id": "280bb36e-86c8-4b31-a387-f60d005d66a1",
   "metadata": {
    "tags": []
   },
   "outputs": [],
   "source": [
    "processed_df = pd.read_csv('processed_dataset.csv')"
   ]
  },
  {
   "cell_type": "code",
   "execution_count": 9,
   "id": "5584ba5b-551f-460b-b587-b8609fabcd46",
   "metadata": {
    "tags": []
   },
   "outputs": [
    {
     "name": "stdout",
     "output_type": "stream",
     "text": [
      "<class 'pandas.core.frame.DataFrame'>\n",
      "RangeIndex: 73473375 entries, 0 to 73473374\n",
      "Data columns (total 3 columns):\n",
      " #   Column    Dtype  \n",
      "---  ------    -----  \n",
      " 0   datetime  object \n",
      " 1   numeric   float64\n",
      " 2   string    object \n",
      "dtypes: float64(1), object(2)\n",
      "memory usage: 1.6+ GB\n"
     ]
    }
   ],
   "source": [
    "processed_df.info()"
   ]
  },
  {
   "cell_type": "code",
   "execution_count": 10,
   "id": "845eee9d-71ea-4471-b115-867cb5a7225e",
   "metadata": {
    "tags": []
   },
   "outputs": [
    {
     "data": {
      "text/plain": [
       "0"
      ]
     },
     "execution_count": 10,
     "metadata": {},
     "output_type": "execute_result"
    }
   ],
   "source": [
    "processed_df.duplicated().sum()"
   ]
  },
  {
   "cell_type": "code",
   "execution_count": 11,
   "id": "3624f339-9058-4762-b145-15107c8928f3",
   "metadata": {
    "tags": []
   },
   "outputs": [
    {
     "data": {
      "text/plain": [
       "datetime    0\n",
       "numeric     0\n",
       "string      0\n",
       "dtype: int64"
      ]
     },
     "execution_count": 11,
     "metadata": {},
     "output_type": "execute_result"
    }
   ],
   "source": [
    "processed_df.isna().sum()"
   ]
  },
  {
   "cell_type": "markdown",
   "id": "652e50c5",
   "metadata": {},
   "source": [
    "## Расчет метрик"
   ]
  },
  {
   "cell_type": "markdown",
   "id": "80a74746",
   "metadata": {},
   "source": [
    "Агрегация по времени, для каждого часа рассчитать\n",
    "* кол-во уникальных string\n",
    "* среднее и медиану для numeric\n",
    "\n",
    "Так же напиcать SQL запрос для выполнения подобных расчетов напрямую в базе данных"
   ]
  },
  {
   "cell_type": "code",
   "execution_count": 12,
   "id": "3ddb6b1f-dcc4-452a-a0bf-6ced5075bbc9",
   "metadata": {
    "tags": []
   },
   "outputs": [],
   "source": [
    "# Функции для выполнения каждой отдельной операции\n",
    "def calculate_unique_strings(df):\n",
    "    return df.resample('H')['string'].nunique()\n",
    "\n",
    "def calculate_mean_numeric(df):\n",
    "    return df.resample('H')['numeric'].mean()\n",
    "\n",
    "def calculate_median_numeric(df):\n",
    "    return df.resample('H')['numeric'].median()"
   ]
  },
  {
   "cell_type": "code",
   "execution_count": 13,
   "id": "b2949721-e8ab-4459-b3b5-4a8cf61733fa",
   "metadata": {
    "tags": []
   },
   "outputs": [],
   "source": [
    "processed_df['datetime'] = pd.to_datetime(processed_df['datetime'])\n",
    "processed_df.set_index('datetime', inplace=True)"
   ]
  },
  {
   "cell_type": "code",
   "execution_count": 14,
   "id": "1675ec69",
   "metadata": {},
   "outputs": [],
   "source": [
    "# Параллельное выполнение с помощью joblib\n",
    "results = Parallel(n_jobs=3)(\n",
    "    delayed(func)(processed_df) for func in [calculate_unique_strings, calculate_mean_numeric, calculate_median_numeric]\n",
    ")\n",
    "unique_strings, mean_numeric, median_numeric = results"
   ]
  },
  {
   "cell_type": "code",
   "execution_count": 15,
   "id": "bc58478b-5284-4fad-879e-390263f92f42",
   "metadata": {
    "tags": []
   },
   "outputs": [],
   "source": [
    "unique_strings.name = 'unique_strings'\n",
    "mean_numeric.name = 'mean_numeric'\n",
    "median_numeric.name = 'median_numeric'"
   ]
  },
  {
   "cell_type": "code",
   "execution_count": 16,
   "id": "f6b4f3c8-a1cb-4006-9c4d-af875519d657",
   "metadata": {
    "tags": []
   },
   "outputs": [],
   "source": [
    "# SELECT\n",
    "#     HOUR(datetime) AS hour,\n",
    "#     COUNT(DISTINCT string) AS unique_strings,\n",
    "#     AVG(numeric) AS mean_numeric,\n",
    "#     MEDIAN(numeric) AS median_numeric\n",
    "# FROM dataset\n",
    "# GROUP BY hour;"
   ]
  },
  {
   "cell_type": "markdown",
   "id": "3a8727c6",
   "metadata": {},
   "source": [
    "## Мерж с метриками"
   ]
  },
  {
   "cell_type": "markdown",
   "id": "91386dcb-440e-458a-ae4e-52a844bf3c13",
   "metadata": {},
   "source": [
    "К каждой строке в исходном датасете примержить метрики ближайшего часа рассчитанные в предыдущем шаге"
   ]
  },
  {
   "cell_type": "code",
   "execution_count": 17,
   "id": "79804db7",
   "metadata": {},
   "outputs": [],
   "source": [
    "processed_df = processed_df.reset_index()\n",
    "processed_df['datetime'] = pd.to_datetime(processed_df['datetime'])\n",
    "\n",
    "# Выполняем мерж по ближайшему времени (по умолчанию ищет ближайшую предыдущую дату)\n",
    "merged_df = processed_df.sort_values('datetime')\n",
    "for df in [unique_strings, mean_numeric, median_numeric]:\n",
    "    df = df.reset_index()\n",
    "    df['datetime'] = pd.to_datetime(df['datetime'])\n",
    "    merged_df = pd.merge_asof(\n",
    "        merged_df, df.sort_values('datetime'), on='datetime', direction='backward'\n",
    "    )"
   ]
  },
  {
   "cell_type": "code",
   "execution_count": 18,
   "id": "7b0f0e54-951c-4643-9b82-c0ceadf990ae",
   "metadata": {
    "tags": []
   },
   "outputs": [
    {
     "data": {
      "text/html": [
       "<div>\n",
       "<style scoped>\n",
       "    .dataframe tbody tr th:only-of-type {\n",
       "        vertical-align: middle;\n",
       "    }\n",
       "\n",
       "    .dataframe tbody tr th {\n",
       "        vertical-align: top;\n",
       "    }\n",
       "\n",
       "    .dataframe thead th {\n",
       "        text-align: right;\n",
       "    }\n",
       "</style>\n",
       "<table border=\"1\" class=\"dataframe\">\n",
       "  <thead>\n",
       "    <tr style=\"text-align: right;\">\n",
       "      <th></th>\n",
       "      <th>datetime</th>\n",
       "      <th>numeric</th>\n",
       "      <th>string</th>\n",
       "      <th>unique_strings</th>\n",
       "      <th>mean_numeric</th>\n",
       "      <th>median_numeric</th>\n",
       "    </tr>\n",
       "  </thead>\n",
       "  <tbody>\n",
       "    <tr>\n",
       "      <th>0</th>\n",
       "      <td>1834-08-14 03:00:59.809442</td>\n",
       "      <td>4.0</td>\n",
       "      <td>0BOwA0onq</td>\n",
       "      <td>52</td>\n",
       "      <td>25.865385</td>\n",
       "      <td>19.5</td>\n",
       "    </tr>\n",
       "    <tr>\n",
       "      <th>1</th>\n",
       "      <td>1834-08-14 03:01:59.809442</td>\n",
       "      <td>26.0</td>\n",
       "      <td>FS F81KT1Jsp</td>\n",
       "      <td>52</td>\n",
       "      <td>25.865385</td>\n",
       "      <td>19.5</td>\n",
       "    </tr>\n",
       "    <tr>\n",
       "      <th>2</th>\n",
       "      <td>1834-08-14 03:02:59.809442</td>\n",
       "      <td>13.0</td>\n",
       "      <td>cI7Ud3hVZS</td>\n",
       "      <td>52</td>\n",
       "      <td>25.865385</td>\n",
       "      <td>19.5</td>\n",
       "    </tr>\n",
       "    <tr>\n",
       "      <th>3</th>\n",
       "      <td>1834-08-14 03:03:59.809442</td>\n",
       "      <td>15.0</td>\n",
       "      <td>kjN5MXb3R.p</td>\n",
       "      <td>52</td>\n",
       "      <td>25.865385</td>\n",
       "      <td>19.5</td>\n",
       "    </tr>\n",
       "    <tr>\n",
       "      <th>4</th>\n",
       "      <td>1834-08-14 03:04:59.809442</td>\n",
       "      <td>97.0</td>\n",
       "      <td>G2m9?P</td>\n",
       "      <td>52</td>\n",
       "      <td>25.865385</td>\n",
       "      <td>19.5</td>\n",
       "    </tr>\n",
       "    <tr>\n",
       "      <th>...</th>\n",
       "      <td>...</td>\n",
       "      <td>...</td>\n",
       "      <td>...</td>\n",
       "      <td>...</td>\n",
       "      <td>...</td>\n",
       "      <td>...</td>\n",
       "    </tr>\n",
       "    <tr>\n",
       "      <th>73473370</th>\n",
       "      <td>2024-09-30 12:43:59.809442</td>\n",
       "      <td>2.0</td>\n",
       "      <td>HTtky6</td>\n",
       "      <td>43</td>\n",
       "      <td>20.790698</td>\n",
       "      <td>11.0</td>\n",
       "    </tr>\n",
       "    <tr>\n",
       "      <th>73473371</th>\n",
       "      <td>2024-09-30 12:45:59.809442</td>\n",
       "      <td>11.0</td>\n",
       "      <td>LfXApZB,2Mbp1Wt</td>\n",
       "      <td>43</td>\n",
       "      <td>20.790698</td>\n",
       "      <td>11.0</td>\n",
       "    </tr>\n",
       "    <tr>\n",
       "      <th>73473372</th>\n",
       "      <td>2024-09-30 12:48:59.809442</td>\n",
       "      <td>6.0</td>\n",
       "      <td>yP9Sb2</td>\n",
       "      <td>43</td>\n",
       "      <td>20.790698</td>\n",
       "      <td>11.0</td>\n",
       "    </tr>\n",
       "    <tr>\n",
       "      <th>73473373</th>\n",
       "      <td>2024-09-30 12:49:59.809442</td>\n",
       "      <td>14.0</td>\n",
       "      <td>K0X3KTAw U3</td>\n",
       "      <td>43</td>\n",
       "      <td>20.790698</td>\n",
       "      <td>11.0</td>\n",
       "    </tr>\n",
       "    <tr>\n",
       "      <th>73473374</th>\n",
       "      <td>2024-09-30 12:51:59.809442</td>\n",
       "      <td>18.0</td>\n",
       "      <td>k?naF8XXT</td>\n",
       "      <td>43</td>\n",
       "      <td>20.790698</td>\n",
       "      <td>11.0</td>\n",
       "    </tr>\n",
       "  </tbody>\n",
       "</table>\n",
       "<p>73473375 rows × 6 columns</p>\n",
       "</div>"
      ],
      "text/plain": [
       "                           datetime  numeric           string  unique_strings  \\\n",
       "0        1834-08-14 03:00:59.809442      4.0        0BOwA0onq              52   \n",
       "1        1834-08-14 03:01:59.809442     26.0     FS F81KT1Jsp              52   \n",
       "2        1834-08-14 03:02:59.809442     13.0       cI7Ud3hVZS              52   \n",
       "3        1834-08-14 03:03:59.809442     15.0      kjN5MXb3R.p              52   \n",
       "4        1834-08-14 03:04:59.809442     97.0           G2m9?P              52   \n",
       "...                             ...      ...              ...             ...   \n",
       "73473370 2024-09-30 12:43:59.809442      2.0           HTtky6              43   \n",
       "73473371 2024-09-30 12:45:59.809442     11.0  LfXApZB,2Mbp1Wt              43   \n",
       "73473372 2024-09-30 12:48:59.809442      6.0           yP9Sb2              43   \n",
       "73473373 2024-09-30 12:49:59.809442     14.0      K0X3KTAw U3              43   \n",
       "73473374 2024-09-30 12:51:59.809442     18.0        k?naF8XXT              43   \n",
       "\n",
       "          mean_numeric  median_numeric  \n",
       "0            25.865385            19.5  \n",
       "1            25.865385            19.5  \n",
       "2            25.865385            19.5  \n",
       "3            25.865385            19.5  \n",
       "4            25.865385            19.5  \n",
       "...                ...             ...  \n",
       "73473370     20.790698            11.0  \n",
       "73473371     20.790698            11.0  \n",
       "73473372     20.790698            11.0  \n",
       "73473373     20.790698            11.0  \n",
       "73473374     20.790698            11.0  \n",
       "\n",
       "[73473375 rows x 6 columns]"
      ]
     },
     "execution_count": 18,
     "metadata": {},
     "output_type": "execute_result"
    }
   ],
   "source": [
    "merged_df"
   ]
  },
  {
   "cell_type": "code",
   "execution_count": 19,
   "id": "b8e2f155-80b8-48c5-a289-e63c36e85f7f",
   "metadata": {
    "tags": []
   },
   "outputs": [],
   "source": [
    "# Сохраняем результат\n",
    "merged_df.to_csv('merged_dataset.csv', index=False)"
   ]
  },
  {
   "cell_type": "markdown",
   "id": "5014c7bd",
   "metadata": {},
   "source": [
    "## Аналитические метрики"
   ]
  },
  {
   "cell_type": "markdown",
   "id": "0f4bd785-4423-4d88-977b-2fe749064b49",
   "metadata": {},
   "source": [
    "Для колонки numeric по полному датасету построить"
   ]
  },
  {
   "cell_type": "markdown",
   "id": "c37a374f",
   "metadata": {},
   "source": [
    "### Гистограмма"
   ]
  },
  {
   "cell_type": "code",
   "execution_count": 20,
   "id": "f61ac9a9",
   "metadata": {},
   "outputs": [
    {
     "data": {
      "image/png": "[encoded data removed]",
      "text/plain": [
       "<Figure size 640x480 with 1 Axes>"
      ]
     },
     "metadata": {},
     "output_type": "display_data"
    }
   ],
   "source": [
    "plt.hist(merged_df['numeric'], bins=15)\n",
    "plt.title('Гистограмма столбца numeric')\n",
    "plt.show()"
   ]
  },
  {
   "cell_type": "markdown",
   "id": "01b87fa6",
   "metadata": {},
   "source": [
    "### 95% доверительный интервал"
   ]
  },
  {
   "cell_type": "markdown",
   "id": "e440b322-cab6-4605-ab5d-aaa22056d5ba",
   "metadata": {},
   "source": [
    "Выбор метрики - так как данных достаточно много, то выбрана среднее + λ для экспоненциального распределения"
   ]
  },
  {
   "cell_type": "code",
   "execution_count": 41,
   "id": "7089cd7b-db00-42b0-9fab-e627595b0b01",
   "metadata": {},
   "outputs": [
    {
     "name": "stdout",
     "output_type": "stream",
     "text": [
      "Оценка параметра λ: 0.04075894106726838\n",
      "95% доверительный интервал для λ: [0.035148975394045455, 0.0463689067404913]\n",
      "Среднее: 24.534494121169743\n",
      "95% доверительный интервал для среднего: [24.52888415549652, 24.540104086842966]\n"
     ]
    }
   ],
   "source": [
    "sample_mean = np.mean(processed_df['numeric'])\n",
    "n = len(processed_df['numeric'])\n",
    "\n",
    "# Оценка параметра λ через среднее\n",
    "lambda_ = 1 / sample_mean\n",
    "\n",
    "std_error = sample_mean / np.sqrt(n)\n",
    "z_score = stats.norm.ppf((1 + 0.95) / 2)\n",
    "\n",
    "# Границы доверительного интервала для λ\n",
    "ci_lower_lambda = lambda_ - z_score * std_error\n",
    "ci_upper_lambda = lambda_ + z_score * std_error\n",
    "\n",
    "# Границы доверительного интервала для среднего\n",
    "ci_lower_mean = sample_mean - z_score * std_error\n",
    "ci_upper_mean = sample_mean + z_score * std_error\n",
    "\n",
    "# Вывод результатов\n",
    "print(f\"Оценка параметра λ: {lambda_hat}\")\n",
    "print(f\"95% доверительный интервал для λ: [{ci_lower_lambda}, {ci_upper_lambda}]\")\n",
    "print(f\"Среднее: {sample_mean}\")\n",
    "print(f\"95% доверительный интервал для среднего: [{ci_lower_mean}, {ci_upper_mean}]\")"
   ]
  },
  {
   "cell_type": "markdown",
   "id": "a7075831-6ce8-46a0-ab49-f557a190144a",
   "metadata": {
    "tags": []
   },
   "source": [
    "## Визуализация"
   ]
  },
  {
   "cell_type": "markdown",
   "id": "5761c896",
   "metadata": {},
   "source": [
    "### График среднего значения numeric колонки (y) по месяцам (x)"
   ]
  },
  {
   "cell_type": "code",
   "execution_count": 42,
   "id": "29d66f5b",
   "metadata": {},
   "outputs": [
    {
     "data": {
      "image/png": "[encoded data removed]",
      "text/plain": [
       "<Figure size 640x480 with 1 Axes>"
      ]
     },
     "metadata": {},
     "output_type": "display_data"
    }
   ],
   "source": [
    "merged_df['month'] = merged_df['datetime'].dt.to_period('M')\n",
    "monthly_avg = merged_df.groupby('month')['numeric'].mean()\n",
    "\n",
    "# Для нормального \n",
    "monthly_avg = monthly_avg[monthly_avg.index.year > 2004].copy()\n",
    "\n",
    "monthly_avg.plot()\n",
    "plt.title('Среднее значение по месяцам')\n",
    "plt.show()"
   ]
  },
  {
   "cell_type": "markdown",
   "id": "6689f231-d019-4f7f-b512-63731537a83d",
   "metadata": {},
   "source": [
    "### Heatmap по частотности символов в колонке string"
   ]
  },
  {
   "cell_type": "code",
   "execution_count": 43,
   "id": "0a7daa68-da93-4db1-afa6-90404e8d0555",
   "metadata": {
    "tags": []
   },
   "outputs": [
    {
     "data": {
      "image/png": "[encoded data removed]",
      "text/plain": [
       "<Figure size 1000x100 with 2 Axes>"
      ]
     },
     "metadata": {},
     "output_type": "display_data"
    }
   ],
   "source": [
    "# Шаг 1: Собираем все символы из столбца 'string'\n",
    "all_characters = ''.join(merged_df['string'].dropna())  # Объединяем все строки в одну\n",
    "\n",
    "top_chars = Counter(all_characters).most_common(30)\n",
    "char_df = pd.DataFrame(top_chars, columns=['Character', 'Frequency']).set_index('Character')\n",
    "\n",
    "# Строим тепловую карту только для наиболее частых символов\n",
    "plt.figure(figsize=(10, 1))\n",
    "sns.heatmap(char_df.T, cmap=\"YlGnBu\")\n",
    "plt.title(\"Heatmap по 30 наиболее частых символов\")\n",
    "plt.show()"
   ]
  },
  {
   "cell_type": "code",
   "execution_count": null,
   "id": "c0893e61-317a-4ab9-8c44-95e52fb006f5",
   "metadata": {},
   "outputs": [],
   "source": []
  }
 ],
 "metadata": {
  "kernelspec": {
   "display_name": "Python 3 (ipykernel)",
   "language": "python",
   "name": "python3"
  },
  "language_info": {
   "codemirror_mode": {
    "name": "ipython",
    "version": 3
   },
   "file_extension": ".py",
   "mimetype": "text/x-python",
   "name": "python",
   "nbconvert_exporter": "python",
   "pygments_lexer": "ipython3",
   "version": "3.11.5"
  }
 },
 "nbformat": 4,
 "nbformat_minor": 5
}
